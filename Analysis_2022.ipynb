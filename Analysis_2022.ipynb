{
 "cells": [
  {
   "cell_type": "code",
   "execution_count": 1,
   "metadata": {},
   "outputs": [],
   "source": [
    "import os\n",
    "import glob\n",
    "import pandas as pd\n",
    "import numpy as np \n",
    "\n",
    "folder = r\"C:\\Users\\Shruti_Kakade\\Downloads\\OneDrive_1_3-1-2023\""
   ]
  },
  {
   "cell_type": "code",
   "execution_count": 2,
   "metadata": {},
   "outputs": [],
   "source": [
    "## Aggregate the billing files for 2022 only"
   ]
  },
  {
   "cell_type": "code",
   "execution_count": 3,
   "metadata": {},
   "outputs": [],
   "source": [
    "files = os.listdir(folder)\n",
    "\n",
    "for file in files:\n",
    "    if file.endswith('.xlsb'):\n",
    "        df = pd.read_excel(os.path.join(folder,file), engine='pyxlsb')"
   ]
  },
  {
   "cell_type": "code",
   "execution_count": 4,
   "metadata": {},
   "outputs": [
    {
     "data": {
      "text/plain": [
       "Posting date                         30\n",
       "Contract Account                 167874\n",
       "Start Billing Period             167932\n",
       "End Billing Period               167933\n",
       "Net Due Date                     167937\n",
       "Total Energy Charges Billed      167937\n",
       "Total Fixed Charges Billed       167937\n",
       "Total PPCA Amount Billed         167937\n",
       "Total E-Tax Billed               167937\n",
       "Total Pension Trust Surcharge    167937\n",
       "Total Subsidy Billed             167937\n",
       "Total Surcharge of 8%            167937\n",
       "Actual KWH                       167937\n",
       "Amount Payable                   167937\n",
       "Current Demand                   167937\n",
       "dtype: int64"
      ]
     },
     "execution_count": 4,
     "metadata": {},
     "output_type": "execute_result"
    }
   ],
   "source": [
    "df.count()"
   ]
  },
  {
   "cell_type": "code",
   "execution_count": 5,
   "metadata": {},
   "outputs": [
    {
     "data": {
      "text/html": [
       "<div>\n",
       "<style scoped>\n",
       "    .dataframe tbody tr th:only-of-type {\n",
       "        vertical-align: middle;\n",
       "    }\n",
       "\n",
       "    .dataframe tbody tr th {\n",
       "        vertical-align: top;\n",
       "    }\n",
       "\n",
       "    .dataframe thead th {\n",
       "        text-align: right;\n",
       "    }\n",
       "</style>\n",
       "<table border=\"1\" class=\"dataframe\">\n",
       "  <thead>\n",
       "    <tr style=\"text-align: right;\">\n",
       "      <th></th>\n",
       "      <th>Posting date</th>\n",
       "      <th>Contract Account</th>\n",
       "      <th>Start Billing Period</th>\n",
       "      <th>End Billing Period</th>\n",
       "      <th>Net Due Date</th>\n",
       "      <th>Total Energy Charges Billed</th>\n",
       "      <th>Total Fixed Charges Billed</th>\n",
       "      <th>Total PPCA Amount Billed</th>\n",
       "      <th>Total E-Tax Billed</th>\n",
       "      <th>Total Pension Trust Surcharge</th>\n",
       "      <th>Total Subsidy Billed</th>\n",
       "      <th>Total Surcharge of 8%</th>\n",
       "      <th>Actual KWH</th>\n",
       "      <th>Amount Payable</th>\n",
       "      <th>Current Demand</th>\n",
       "    </tr>\n",
       "  </thead>\n",
       "  <tbody>\n",
       "    <tr>\n",
       "      <th>0</th>\n",
       "      <td>01.09.2022</td>\n",
       "      <td>6.000001e+10</td>\n",
       "      <td>02.08.2022</td>\n",
       "      <td>01.09.2022</td>\n",
       "      <td>16.09.2022</td>\n",
       "      <td>66817.0</td>\n",
       "      <td>20020.0</td>\n",
       "      <td>16659.65</td>\n",
       "      <td>4249.08</td>\n",
       "      <td>6078.59</td>\n",
       "      <td>0.0</td>\n",
       "      <td>6946.96</td>\n",
       "      <td>8690</td>\n",
       "      <td>120770.0</td>\n",
       "      <td>120771.28</td>\n",
       "    </tr>\n",
       "    <tr>\n",
       "      <th>1</th>\n",
       "      <td>NaN</td>\n",
       "      <td>6.000004e+10</td>\n",
       "      <td>02.08.2022</td>\n",
       "      <td>01.09.2022</td>\n",
       "      <td>19.09.2022</td>\n",
       "      <td>14377.0</td>\n",
       "      <td>1101.1</td>\n",
       "      <td>2969.57</td>\n",
       "      <td>914.28</td>\n",
       "      <td>1083.47</td>\n",
       "      <td>0.0</td>\n",
       "      <td>1238.25</td>\n",
       "      <td>2135</td>\n",
       "      <td>21700.0</td>\n",
       "      <td>21683.67</td>\n",
       "    </tr>\n",
       "  </tbody>\n",
       "</table>\n",
       "</div>"
      ],
      "text/plain": [
       "  Posting date  Contract Account Start Billing Period End Billing Period  \\\n",
       "0   01.09.2022      6.000001e+10           02.08.2022         01.09.2022   \n",
       "1          NaN      6.000004e+10           02.08.2022         01.09.2022   \n",
       "\n",
       "  Net Due Date  Total Energy Charges Billed  Total Fixed Charges Billed  \\\n",
       "0   16.09.2022                      66817.0                     20020.0   \n",
       "1   19.09.2022                      14377.0                      1101.1   \n",
       "\n",
       "   Total PPCA Amount Billed  Total E-Tax Billed  \\\n",
       "0                  16659.65             4249.08   \n",
       "1                   2969.57              914.28   \n",
       "\n",
       "   Total Pension Trust Surcharge  Total Subsidy Billed  Total Surcharge of 8%  \\\n",
       "0                        6078.59                   0.0                6946.96   \n",
       "1                        1083.47                   0.0                1238.25   \n",
       "\n",
       "   Actual KWH  Amount Payable  Current Demand  \n",
       "0        8690        120770.0       120771.28  \n",
       "1        2135         21700.0        21683.67  "
      ]
     },
     "execution_count": 5,
     "metadata": {},
     "output_type": "execute_result"
    }
   ],
   "source": [
    "df.head(2)"
   ]
  },
  {
   "cell_type": "code",
   "execution_count": 6,
   "metadata": {},
   "outputs": [],
   "source": [
    "## For each customer (Contract Account), calculate the number of billing days for each bill \n",
    "## (start billing period – end billing period + 1) and the number of billing days for the year"
   ]
  },
  {
   "cell_type": "code",
   "execution_count": 7,
   "metadata": {},
   "outputs": [],
   "source": [
    "df['Number_of_bi_days'] = pd.to_datetime(df['End Billing Period']) - pd.to_datetime(df['Start Billing Period']) "
   ]
  },
  {
   "cell_type": "code",
   "execution_count": 8,
   "metadata": {},
   "outputs": [],
   "source": [
    "df['Number_of_bi_days'] = df['Number_of_bi_days'] + np.timedelta64(1, 'D')"
   ]
  },
  {
   "cell_type": "code",
   "execution_count": 9,
   "metadata": {},
   "outputs": [],
   "source": [
    "billing_days_per_account = df.groupby('Contract Account')['Number_of_bi_days'].sum().reset_index()"
   ]
  },
  {
   "cell_type": "code",
   "execution_count": 10,
   "metadata": {},
   "outputs": [
    {
     "data": {
      "text/html": [
       "<div>\n",
       "<style scoped>\n",
       "    .dataframe tbody tr th:only-of-type {\n",
       "        vertical-align: middle;\n",
       "    }\n",
       "\n",
       "    .dataframe tbody tr th {\n",
       "        vertical-align: top;\n",
       "    }\n",
       "\n",
       "    .dataframe thead th {\n",
       "        text-align: right;\n",
       "    }\n",
       "</style>\n",
       "<table border=\"1\" class=\"dataframe\">\n",
       "  <thead>\n",
       "    <tr style=\"text-align: right;\">\n",
       "      <th></th>\n",
       "      <th>Contract Account</th>\n",
       "      <th>Number_of_bi_days</th>\n",
       "    </tr>\n",
       "  </thead>\n",
       "  <tbody>\n",
       "    <tr>\n",
       "      <th>0</th>\n",
       "      <td>6.000001e+10</td>\n",
       "      <td>236 days</td>\n",
       "    </tr>\n",
       "    <tr>\n",
       "      <th>1</th>\n",
       "      <td>6.000001e+10</td>\n",
       "      <td>-29 days</td>\n",
       "    </tr>\n",
       "    <tr>\n",
       "      <th>2</th>\n",
       "      <td>6.000002e+10</td>\n",
       "      <td>236 days</td>\n",
       "    </tr>\n",
       "    <tr>\n",
       "      <th>3</th>\n",
       "      <td>6.000002e+10</td>\n",
       "      <td>236 days</td>\n",
       "    </tr>\n",
       "    <tr>\n",
       "      <th>4</th>\n",
       "      <td>6.000002e+10</td>\n",
       "      <td>236 days</td>\n",
       "    </tr>\n",
       "    <tr>\n",
       "      <th>...</th>\n",
       "      <td>...</td>\n",
       "      <td>...</td>\n",
       "    </tr>\n",
       "    <tr>\n",
       "      <th>166570</th>\n",
       "      <td>6.002991e+10</td>\n",
       "      <td>32 days</td>\n",
       "    </tr>\n",
       "    <tr>\n",
       "      <th>166571</th>\n",
       "      <td>6.002991e+10</td>\n",
       "      <td>-29 days</td>\n",
       "    </tr>\n",
       "    <tr>\n",
       "      <th>166572</th>\n",
       "      <td>6.002992e+10</td>\n",
       "      <td>31 days</td>\n",
       "    </tr>\n",
       "    <tr>\n",
       "      <th>166573</th>\n",
       "      <td>6.002992e+10</td>\n",
       "      <td>235 days</td>\n",
       "    </tr>\n",
       "    <tr>\n",
       "      <th>166574</th>\n",
       "      <td>6.002992e+10</td>\n",
       "      <td>30 days</td>\n",
       "    </tr>\n",
       "  </tbody>\n",
       "</table>\n",
       "<p>166575 rows × 2 columns</p>\n",
       "</div>"
      ],
      "text/plain": [
       "        Contract Account Number_of_bi_days\n",
       "0           6.000001e+10          236 days\n",
       "1           6.000001e+10          -29 days\n",
       "2           6.000002e+10          236 days\n",
       "3           6.000002e+10          236 days\n",
       "4           6.000002e+10          236 days\n",
       "...                  ...               ...\n",
       "166570      6.002991e+10           32 days\n",
       "166571      6.002991e+10          -29 days\n",
       "166572      6.002992e+10           31 days\n",
       "166573      6.002992e+10          235 days\n",
       "166574      6.002992e+10           30 days\n",
       "\n",
       "[166575 rows x 2 columns]"
      ]
     },
     "execution_count": 10,
     "metadata": {},
     "output_type": "execute_result"
    }
   ],
   "source": [
    "billing_days_per_account"
   ]
  },
  {
   "cell_type": "code",
   "execution_count": 11,
   "metadata": {},
   "outputs": [
    {
     "data": {
      "text/plain": [
       "numpy.timedelta64(-935599653062377472,'ns')"
      ]
     },
     "execution_count": 11,
     "metadata": {},
     "output_type": "execute_result"
    }
   ],
   "source": [
    "sum(billing_days_per_account['Number_of_bi_days'].values)"
   ]
  },
  {
   "cell_type": "code",
   "execution_count": 12,
   "metadata": {},
   "outputs": [],
   "source": [
    "## For each customer, sum the billed consumption (Actual KWH) for all the bills for the year"
   ]
  },
  {
   "cell_type": "code",
   "execution_count": 13,
   "metadata": {},
   "outputs": [],
   "source": [
    "billed_consumption = df.groupby('Contract Account')['Actual KWH'].sum().reset_index()"
   ]
  },
  {
   "cell_type": "code",
   "execution_count": 14,
   "metadata": {},
   "outputs": [
    {
     "data": {
      "text/html": [
       "<div>\n",
       "<style scoped>\n",
       "    .dataframe tbody tr th:only-of-type {\n",
       "        vertical-align: middle;\n",
       "    }\n",
       "\n",
       "    .dataframe tbody tr th {\n",
       "        vertical-align: top;\n",
       "    }\n",
       "\n",
       "    .dataframe thead th {\n",
       "        text-align: right;\n",
       "    }\n",
       "</style>\n",
       "<table border=\"1\" class=\"dataframe\">\n",
       "  <thead>\n",
       "    <tr style=\"text-align: right;\">\n",
       "      <th></th>\n",
       "      <th>Contract Account</th>\n",
       "      <th>Actual KWH</th>\n",
       "    </tr>\n",
       "  </thead>\n",
       "  <tbody>\n",
       "    <tr>\n",
       "      <th>0</th>\n",
       "      <td>6.000001e+10</td>\n",
       "      <td>11460</td>\n",
       "    </tr>\n",
       "    <tr>\n",
       "      <th>1</th>\n",
       "      <td>6.000001e+10</td>\n",
       "      <td>8690</td>\n",
       "    </tr>\n",
       "    <tr>\n",
       "      <th>2</th>\n",
       "      <td>6.000002e+10</td>\n",
       "      <td>0</td>\n",
       "    </tr>\n",
       "    <tr>\n",
       "      <th>3</th>\n",
       "      <td>6.000002e+10</td>\n",
       "      <td>3333</td>\n",
       "    </tr>\n",
       "    <tr>\n",
       "      <th>4</th>\n",
       "      <td>6.000002e+10</td>\n",
       "      <td>80028</td>\n",
       "    </tr>\n",
       "    <tr>\n",
       "      <th>...</th>\n",
       "      <td>...</td>\n",
       "      <td>...</td>\n",
       "    </tr>\n",
       "    <tr>\n",
       "      <th>166570</th>\n",
       "      <td>6.002991e+10</td>\n",
       "      <td>336</td>\n",
       "    </tr>\n",
       "    <tr>\n",
       "      <th>166571</th>\n",
       "      <td>6.002991e+10</td>\n",
       "      <td>1579</td>\n",
       "    </tr>\n",
       "    <tr>\n",
       "      <th>166572</th>\n",
       "      <td>6.002992e+10</td>\n",
       "      <td>600</td>\n",
       "    </tr>\n",
       "    <tr>\n",
       "      <th>166573</th>\n",
       "      <td>6.002992e+10</td>\n",
       "      <td>310</td>\n",
       "    </tr>\n",
       "    <tr>\n",
       "      <th>166574</th>\n",
       "      <td>6.002992e+10</td>\n",
       "      <td>1117</td>\n",
       "    </tr>\n",
       "  </tbody>\n",
       "</table>\n",
       "<p>166575 rows × 2 columns</p>\n",
       "</div>"
      ],
      "text/plain": [
       "        Contract Account  Actual KWH\n",
       "0           6.000001e+10       11460\n",
       "1           6.000001e+10        8690\n",
       "2           6.000002e+10           0\n",
       "3           6.000002e+10        3333\n",
       "4           6.000002e+10       80028\n",
       "...                  ...         ...\n",
       "166570      6.002991e+10         336\n",
       "166571      6.002991e+10        1579\n",
       "166572      6.002992e+10         600\n",
       "166573      6.002992e+10         310\n",
       "166574      6.002992e+10        1117\n",
       "\n",
       "[166575 rows x 2 columns]"
      ]
     },
     "execution_count": 14,
     "metadata": {},
     "output_type": "execute_result"
    }
   ],
   "source": [
    "billed_consumption"
   ]
  },
  {
   "cell_type": "code",
   "execution_count": 15,
   "metadata": {},
   "outputs": [],
   "source": [
    "## Divide the total consumption by the number of billing days to obtain the customer’s average daily consumption"
   ]
  },
  {
   "cell_type": "code",
   "execution_count": 16,
   "metadata": {},
   "outputs": [],
   "source": [
    "int_days = billing_days_per_account['Number_of_bi_days'].astype('timedelta64[D]')"
   ]
  },
  {
   "cell_type": "code",
   "execution_count": 17,
   "metadata": {},
   "outputs": [],
   "source": [
    "Avg_daily_consumption = billed_consumption['Actual KWH'] / int_days"
   ]
  },
  {
   "cell_type": "code",
   "execution_count": 18,
   "metadata": {},
   "outputs": [
    {
     "data": {
      "text/plain": [
       "0          48.559322\n",
       "1        -299.655172\n",
       "2           0.000000\n",
       "3          14.122881\n",
       "4         339.101695\n",
       "             ...    \n",
       "166570     10.500000\n",
       "166571    -54.448276\n",
       "166572     19.354839\n",
       "166573      1.319149\n",
       "166574     37.233333\n",
       "Length: 166575, dtype: float64"
      ]
     },
     "execution_count": 18,
     "metadata": {},
     "output_type": "execute_result"
    }
   ],
   "source": [
    "Avg_daily_consumption"
   ]
  },
  {
   "cell_type": "code",
   "execution_count": 19,
   "metadata": {},
   "outputs": [],
   "source": [
    "## Collapse the data to the customer level and plot a histogram of the average daily consumption"
   ]
  },
  {
   "cell_type": "code",
   "execution_count": 20,
   "metadata": {},
   "outputs": [],
   "source": [
    "billed_consumption['Avg_daily_consumption'] = Avg_daily_consumption"
   ]
  },
  {
   "cell_type": "code",
   "execution_count": 21,
   "metadata": {},
   "outputs": [
    {
     "data": {
      "text/plain": [
       "<AxesSubplot:>"
      ]
     },
     "execution_count": 21,
     "metadata": {},
     "output_type": "execute_result"
    },
    {
     "data": {
      "image/png": "[encoded data removed]",
      "text/plain": [
       "<Figure size 432x288 with 1 Axes>"
      ]
     },
     "metadata": {
      "needs_background": "light"
     },
     "output_type": "display_data"
    }
   ],
   "source": [
    "billed_consumption['Avg_daily_consumption'].hist()"
   ]
  },
  {
   "cell_type": "code",
   "execution_count": 22,
   "metadata": {},
   "outputs": [],
   "source": [
    "## Indicate the 25th, 50th and 75th percentiles of the distribution in the histogram using vertical lines"
   ]
  },
  {
   "cell_type": "code",
   "execution_count": 23,
   "metadata": {},
   "outputs": [
    {
     "data": {
      "text/plain": [
       "2.4838709677419355"
      ]
     },
     "execution_count": 23,
     "metadata": {},
     "output_type": "execute_result"
    }
   ],
   "source": [
    "np.percentile(Avg_daily_consumption, 25)"
   ]
  },
  {
   "cell_type": "code",
   "execution_count": 24,
   "metadata": {},
   "outputs": [
    {
     "data": {
      "text/plain": [
       "9.797752808988765"
      ]
     },
     "execution_count": 24,
     "metadata": {},
     "output_type": "execute_result"
    }
   ],
   "source": [
    "np.percentile(Avg_daily_consumption, 50)"
   ]
  },
  {
   "cell_type": "code",
   "execution_count": 25,
   "metadata": {},
   "outputs": [
    {
     "data": {
      "text/plain": [
       "21.5"
      ]
     },
     "execution_count": 25,
     "metadata": {},
     "output_type": "execute_result"
    }
   ],
   "source": [
    "np.percentile(Avg_daily_consumption, 75)"
   ]
  },
  {
   "cell_type": "code",
   "execution_count": 26,
   "metadata": {
    "scrolled": true
   },
   "outputs": [
    {
     "data": {
      "text/plain": [
       "count    166575.000000\n",
       "mean         36.097288\n",
       "std         113.916283\n",
       "min       -2381.379310\n",
       "25%           2.483871\n",
       "50%           9.797753\n",
       "75%          21.500000\n",
       "max        6780.000000\n",
       "Name: Avg_daily_consumption, dtype: float64"
      ]
     },
     "execution_count": 26,
     "metadata": {},
     "output_type": "execute_result"
    }
   ],
   "source": [
    "billed_consumption['Avg_daily_consumption'].describe()"
   ]
  },
  {
   "cell_type": "code",
   "execution_count": 27,
   "metadata": {},
   "outputs": [
    {
     "data": {
      "text/plain": [
       "529.1300000000047"
      ]
     },
     "execution_count": 27,
     "metadata": {},
     "output_type": "execute_result"
    }
   ],
   "source": [
    "np.percentile(Avg_daily_consumption, 99)"
   ]
  },
  {
   "cell_type": "code",
   "execution_count": 28,
   "metadata": {
    "scrolled": true
   },
   "outputs": [],
   "source": [
    "df_avg = billed_consumption[np.logical_and(billed_consumption['Avg_daily_consumption'] < np.percentile(Avg_daily_consumption, 99), \n",
    "billed_consumption['Avg_daily_consumption'] > np.percentile(Avg_daily_consumption, 1))]\n"
   ]
  },
  {
   "cell_type": "code",
   "execution_count": 45,
   "metadata": {},
   "outputs": [
    {
     "data": {
      "image/png": "[encoded data removed]",
      "text/plain": [
       "<Figure size 720x504 with 1 Axes>"
      ]
     },
     "metadata": {
      "needs_background": "light"
     },
     "output_type": "display_data"
    }
   ],
   "source": [
    "from matplotlib import pyplot as plt\n",
    "import numpy as np\n",
    "\n",
    "\n",
    "# Creating dataset\n",
    "a = np.array(df_avg['Avg_daily_consumption'].values)\n",
    "\n",
    "# Creating histogram\n",
    "fig, ax = plt.subplots(figsize =(10, 7))\n",
    "ax.hist(a)\n",
    "\n",
    "# Show plot\n",
    "plt.show()\n",
    "\n"
   ]
  },
  {
   "cell_type": "code",
   "execution_count": 30,
   "metadata": {},
   "outputs": [
    {
     "data": {
      "text/html": [
       "<div>\n",
       "<style scoped>\n",
       "    .dataframe tbody tr th:only-of-type {\n",
       "        vertical-align: middle;\n",
       "    }\n",
       "\n",
       "    .dataframe tbody tr th {\n",
       "        vertical-align: top;\n",
       "    }\n",
       "\n",
       "    .dataframe thead th {\n",
       "        text-align: right;\n",
       "    }\n",
       "</style>\n",
       "<table border=\"1\" class=\"dataframe\">\n",
       "  <thead>\n",
       "    <tr style=\"text-align: right;\">\n",
       "      <th></th>\n",
       "      <th>Contract Account</th>\n",
       "      <th>Actual KWH</th>\n",
       "      <th>Avg_daily_consumption</th>\n",
       "    </tr>\n",
       "  </thead>\n",
       "  <tbody>\n",
       "    <tr>\n",
       "      <th>0</th>\n",
       "      <td>6.000001e+10</td>\n",
       "      <td>11460</td>\n",
       "      <td>48.559322</td>\n",
       "    </tr>\n",
       "    <tr>\n",
       "      <th>2</th>\n",
       "      <td>6.000002e+10</td>\n",
       "      <td>0</td>\n",
       "      <td>0.000000</td>\n",
       "    </tr>\n",
       "    <tr>\n",
       "      <th>3</th>\n",
       "      <td>6.000002e+10</td>\n",
       "      <td>3333</td>\n",
       "      <td>14.122881</td>\n",
       "    </tr>\n",
       "    <tr>\n",
       "      <th>4</th>\n",
       "      <td>6.000002e+10</td>\n",
       "      <td>80028</td>\n",
       "      <td>339.101695</td>\n",
       "    </tr>\n",
       "    <tr>\n",
       "      <th>5</th>\n",
       "      <td>6.000003e+10</td>\n",
       "      <td>1284</td>\n",
       "      <td>38.909091</td>\n",
       "    </tr>\n",
       "    <tr>\n",
       "      <th>...</th>\n",
       "      <td>...</td>\n",
       "      <td>...</td>\n",
       "      <td>...</td>\n",
       "    </tr>\n",
       "    <tr>\n",
       "      <th>166570</th>\n",
       "      <td>6.002991e+10</td>\n",
       "      <td>336</td>\n",
       "      <td>10.500000</td>\n",
       "    </tr>\n",
       "    <tr>\n",
       "      <th>166571</th>\n",
       "      <td>6.002991e+10</td>\n",
       "      <td>1579</td>\n",
       "      <td>-54.448276</td>\n",
       "    </tr>\n",
       "    <tr>\n",
       "      <th>166572</th>\n",
       "      <td>6.002992e+10</td>\n",
       "      <td>600</td>\n",
       "      <td>19.354839</td>\n",
       "    </tr>\n",
       "    <tr>\n",
       "      <th>166573</th>\n",
       "      <td>6.002992e+10</td>\n",
       "      <td>310</td>\n",
       "      <td>1.319149</td>\n",
       "    </tr>\n",
       "    <tr>\n",
       "      <th>166574</th>\n",
       "      <td>6.002992e+10</td>\n",
       "      <td>1117</td>\n",
       "      <td>37.233333</td>\n",
       "    </tr>\n",
       "  </tbody>\n",
       "</table>\n",
       "<p>163243 rows × 3 columns</p>\n",
       "</div>"
      ],
      "text/plain": [
       "        Contract Account  Actual KWH  Avg_daily_consumption\n",
       "0           6.000001e+10       11460              48.559322\n",
       "2           6.000002e+10           0               0.000000\n",
       "3           6.000002e+10        3333              14.122881\n",
       "4           6.000002e+10       80028             339.101695\n",
       "5           6.000003e+10        1284              38.909091\n",
       "...                  ...         ...                    ...\n",
       "166570      6.002991e+10         336              10.500000\n",
       "166571      6.002991e+10        1579             -54.448276\n",
       "166572      6.002992e+10         600              19.354839\n",
       "166573      6.002992e+10         310               1.319149\n",
       "166574      6.002992e+10        1117              37.233333\n",
       "\n",
       "[163243 rows x 3 columns]"
      ]
     },
     "execution_count": 30,
     "metadata": {},
     "output_type": "execute_result"
    }
   ],
   "source": [
    "df_avg"
   ]
  },
  {
   "cell_type": "code",
   "execution_count": 31,
   "metadata": {},
   "outputs": [],
   "source": [
    "q1_df = df_avg[np.logical_and(df_avg['Avg_daily_consumption'] > np.percentile(Avg_daily_consumption, 0), \n",
    "                              df_avg['Avg_daily_consumption'] < np.percentile(Avg_daily_consumption, 25))]\n",
    "\n",
    "q2_df = df_avg[np.logical_and(df_avg['Avg_daily_consumption'] > np.percentile(Avg_daily_consumption, 25), \n",
    "                              df_avg['Avg_daily_consumption'] < np.percentile(Avg_daily_consumption, 50))]\n",
    "\n",
    "q3_df = df_avg[np.logical_and(df_avg['Avg_daily_consumption'] > np.percentile(Avg_daily_consumption, 50), \n",
    "                              df_avg['Avg_daily_consumption'] < np.percentile(Avg_daily_consumption, 75))]\n",
    "\n",
    "q4_df = df_avg[np.logical_and(df_avg['Avg_daily_consumption'] > np.percentile(Avg_daily_consumption, 75), \n",
    "                              df_avg['Avg_daily_consumption'] < np.percentile(Avg_daily_consumption, 100))]\n",
    "                              \n",
    "                              \n",
    "                              \n"
   ]
  },
  {
   "cell_type": "code",
   "execution_count": 50,
   "metadata": {},
   "outputs": [],
   "source": [
    "import random\n",
    "random_CA = df_avg['Contract Account'].values"
   ]
  },
  {
   "cell_type": "code",
   "execution_count": null,
   "metadata": {},
   "outputs": [],
   "source": []
  }
 ],
 "metadata": {
  "kernelspec": {
   "display_name": "Python 3",
   "language": "python",
   "name": "python3"
  },
  "language_info": {
   "codemirror_mode": {
    "name": "ipython",
    "version": 3
   },
   "file_extension": ".py",
   "mimetype": "text/x-python",
   "name": "python",
   "nbconvert_exporter": "python",
   "pygments_lexer": "ipython3",
   "version": "3.8.5"
  }
 },
 "nbformat": 4,
 "nbformat_minor": 4
}
